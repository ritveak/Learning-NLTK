{
 "cells": [
  {
   "cell_type": "code",
   "execution_count": 12,
   "metadata": {},
   "outputs": [],
   "source": [
    "from nltk import PorterStemmer\n",
    "from nltk.stem import WordNetLemmatizer"
   ]
  },
  {
   "cell_type": "code",
   "execution_count": 2,
   "metadata": {},
   "outputs": [],
   "source": [
    "stemmer = PorterStemmer()"
   ]
  },
  {
   "cell_type": "code",
   "execution_count": 3,
   "metadata": {},
   "outputs": [],
   "source": [
    "text = \"In a country like India, where a mass of population lives in the villages, there are times when parents have work to take care of and cannot keep an eye on their children all day round. In many cases, when even the females in houses have to go to work, but cannot always carry their children along with them, they have no other choice but to leave them back at their homes. Due to these reasons and more, there has been a rapid increase in security risks of children recently. The current statistics report around 174 child missing cases on an everyday basis and about 505 are still not found in India. Is there a way to improve this situation? Is there any way by which parents can keep a track on their child even while not being around? Our project mainly aims at helping these parents out, so we propose a smart child tracking wearable system which helps them to keep track of the live location of the child at any given time. This system is implemented as a wearable band-like device which when wore by the child, helps in locating it.\""
   ]
  },
  {
   "cell_type": "code",
   "execution_count": 4,
   "metadata": {},
   "outputs": [],
   "source": [
    "text = [stemmer.stem(token) for token in text.split(\" \")]"
   ]
  },
  {
   "cell_type": "code",
   "execution_count": 10,
   "metadata": {},
   "outputs": [],
   "source": [
    "text = \" \".join(text)"
   ]
  },
  {
   "cell_type": "code",
   "execution_count": 11,
   "metadata": {},
   "outputs": [
    {
     "data": {
      "text/plain": [
       "'In a countri like india, where a mass of popul live in the villages, there are time when parent have work to take care of and cannot keep an eye on their children all day round. In mani cases, when even the femal in hous have to go to work, but cannot alway carri their children along with them, they have no other choic but to leav them back at their homes. due to these reason and more, there ha been a rapid increas in secur risk of children recently. the current statist report around 174 child miss case on an everyday basi and about 505 are still not found in india. Is there a way to improv thi situation? Is there ani way by which parent can keep a track on their child even while not be around? our project mainli aim at help these parent out, so we propos a smart child track wearabl system which help them to keep track of the live locat of the child at ani given time. thi system is implement as a wearabl band-lik devic which when wore by the child, help in locat it.'"
      ]
     },
     "execution_count": 11,
     "metadata": {},
     "output_type": "execute_result"
    }
   ],
   "source": [
    "text"
   ]
  },
  {
   "cell_type": "code",
   "execution_count": 13,
   "metadata": {},
   "outputs": [],
   "source": [
    "lemmatizer = WordNetLemmatizer()"
   ]
  },
  {
   "cell_type": "code",
   "execution_count": 14,
   "metadata": {},
   "outputs": [],
   "source": [
    "text = \"In a country like India, where a mass of population lives in the villages, there are times when parents have work to take care of and cannot keep an eye on their children all day round. In many cases, when even the females in houses have to go to work, but cannot always carry their children along with them, they have no other choice but to leave them back at their homes. Due to these reasons and more, there has been a rapid increase in security risks of children recently. The current statistics report around 174 child missing cases on an everyday basis and about 505 are still not found in India. Is there a way to improve this situation? Is there any way by which parents can keep a track on their child even while not being around? Our project mainly aims at helping these parents out, so we propose a smart child tracking wearable system which helps them to keep track of the live location of the child at any given time. This system is implemented as a wearable band-like device which when wore by the child, helps in locating it.\"\n",
    "text = [lemmatizer.lemmatize(token) for token in text.split(\" \")]\n",
    "text = \" \".join(text)"
   ]
  },
  {
   "cell_type": "code",
   "execution_count": 15,
   "metadata": {},
   "outputs": [
    {
     "data": {
      "text/plain": [
       "'In a country like India, where a mass of population life in the villages, there are time when parent have work to take care of and cannot keep an eye on their child all day round. In many cases, when even the female in house have to go to work, but cannot always carry their child along with them, they have no other choice but to leave them back at their homes. Due to these reason and more, there ha been a rapid increase in security risk of child recently. The current statistic report around 174 child missing case on an everyday basis and about 505 are still not found in India. Is there a way to improve this situation? Is there any way by which parent can keep a track on their child even while not being around? Our project mainly aim at helping these parent out, so we propose a smart child tracking wearable system which help them to keep track of the live location of the child at any given time. This system is implemented a a wearable band-like device which when wore by the child, help in locating it.'"
      ]
     },
     "execution_count": 15,
     "metadata": {},
     "output_type": "execute_result"
    }
   ],
   "source": [
    "text"
   ]
  },
  {
   "cell_type": "code",
   "execution_count": 17,
   "metadata": {},
   "outputs": [
    {
     "name": "stdout",
     "output_type": "stream",
     "text": [
      "better\n"
     ]
    }
   ],
   "source": [
    "print(lemmatizer.lemmatize('better'))"
   ]
  },
  {
   "cell_type": "code",
   "execution_count": 18,
   "metadata": {},
   "outputs": [
    {
     "name": "stdout",
     "output_type": "stream",
     "text": [
      "good\n"
     ]
    }
   ],
   "source": [
    "print(lemmatizer.lemmatize('better', pos = 'a'))"
   ]
  },
  {
   "cell_type": "code",
   "execution_count": 24,
   "metadata": {},
   "outputs": [
    {
     "name": "stdout",
     "output_type": "stream",
     "text": [
      "In a country like India, where a mass of population life in the villages, there are time when parent have work to take care of and cannot keep an eye on their child all day round. In many cases, when even the female in house have to go to work, but cannot always carry their child along with them, they have no other choice but to leave them back at their homes. Due to these reason and more, there ha been a rapid increase in security risk of child recently. The current statistic report around 174 child missing case on an everyday basis and about 505 are still not found in India. Is there a way to improve this situation? Is there any way by which parent can keep a track on their child even while not being around? Our project mainly aim at helping these parent out, so we propose a smart child tracking wearable system which help them to keep track of the live location of the child at any given time. This system is implemented a a wearable band-like device which when wore by the child, help in locating it.\n"
     ]
    }
   ],
   "source": [
    "text = \"In a country like India, where a mass of population lives in the villages, there are times when parents have work to take care of and cannot keep an eye on their children all day round. In many cases, when even the females in houses have to go to work, but cannot always carry their children along with them, they have no other choice but to leave them back at their homes. Due to these reasons and more, there has been a rapid increase in security risks of children recently. The current statistics report around 174 child missing cases on an everyday basis and about 505 are still not found in India. Is there a way to improve this situation? Is there any way by which parents can keep a track on their child even while not being around? Our project mainly aims at helping these parents out, so we propose a smart child tracking wearable system which helps them to keep track of the live location of the child at any given time. This system is implemented as a wearable band-like device which when wore by the child, helps in locating it.\"\n",
    "text = [lemmatizer.lemmatize(token) for token in text.split(\" \")]\n",
    "text = \" \".join(text)\n",
    "print(lemmatizer.lemmatize(text, pos = 'a'))"
   ]
  },
  {
   "cell_type": "code",
   "execution_count": 31,
   "metadata": {},
   "outputs": [
    {
     "data": {
      "text/plain": [
       "'mouse'"
      ]
     },
     "execution_count": 31,
     "metadata": {},
     "output_type": "execute_result"
    }
   ],
   "source": [
    "text = \"mice\"\n",
    "text = [lemmatizer.lemmatize(token) for token in text.split(\" \")]\n",
    "text = \" \".join(text)\n",
    "text"
   ]
  },
  {
   "cell_type": "code",
   "execution_count": null,
   "metadata": {},
   "outputs": [],
   "source": []
  }
 ],
 "metadata": {
  "kernelspec": {
   "display_name": "Python 3",
   "language": "python",
   "name": "python3"
  },
  "language_info": {
   "codemirror_mode": {
    "name": "ipython",
    "version": 3
   },
   "file_extension": ".py",
   "mimetype": "text/x-python",
   "name": "python",
   "nbconvert_exporter": "python",
   "pygments_lexer": "ipython3",
   "version": "3.6.5"
  }
 },
 "nbformat": 4,
 "nbformat_minor": 2
}

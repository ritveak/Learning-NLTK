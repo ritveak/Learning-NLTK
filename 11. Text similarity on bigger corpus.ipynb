{
 "cells": [
  {
   "cell_type": "code",
   "execution_count": 8,
   "metadata": {},
   "outputs": [],
   "source": [
    "from sklearn.feature_extraction.text import CountVectorizer\n",
    "from sklearn.feature_extraction.text import TfidfVectorizer\n",
    "from sklearn.metrics.pairwise import cosine_similarity\n",
    "from nltk.tokenize import sent_tokenize"
   ]
  },
  {
   "cell_type": "code",
   "execution_count": 3,
   "metadata": {},
   "outputs": [
    {
     "name": "stdout",
     "output_type": "stream",
     "text": [
      "[[0 0 0 0 0 0 0 0 0 0 0 0 0 0 0 0 1 0 0 0 0 0 0 0 0 0 0 0 0 0 0 0 0 0 0 1\n",
      "  0 0 0 0 0 1 1 0 0 0 0 0 0 0 0 0 0 0 0 0 1 0 0 0 0 0 0]]\n",
      "  (0, 16)\t1\n",
      "  (0, 35)\t1\n",
      "  (0, 41)\t1\n",
      "  (0, 42)\t1\n",
      "  (0, 56)\t1\n"
     ]
    }
   ],
   "source": [
    "vector = CountVectorizer(binary = True)\n",
    "corpus = [\"In a country like India, where a mass of population lives in the villages\", \"there are times when parents have work to take care of and cannot keep an eye on their children all day round\", \"In many cases, when even the females in houses have to go to work, but cannot always carry their children along with them\", \"they have no other choice but to leave them back at their homes. Due to these reasons and more, there has been a rapid increase in security risks of children recently\"]\n",
    "vector.fit(corpus)\n",
    "print(vector.transform([\"country population mass times parents parents parents hello\"]).toarray())\n",
    "print(vector.transform([\"country population mass times parents parents parents hello\"]))"
   ]
  },
  {
   "cell_type": "code",
   "execution_count": 14,
   "metadata": {},
   "outputs": [
    {
     "name": "stdout",
     "output_type": "stream",
     "text": [
      "[[0 0 1 0 0 4 0 1 1 0 2 1 1 0 1 1 1 1 0 0 1 1 0 0 1 1 1 0 1 1 1 0 0 1 0 1\n",
      "  1 1 1 1 1 1 0 1 1 1 0 0 1 1 0 1 1 0 0 1 1 1 2 0 1 0 0 0 0 0 1 1 1 0 2 0\n",
      "  0 1 0 1 2 4 2 1 0 0 0 0 1 1 1 0 0 0 2 1 0 1 1 0 1 1 0 0 0 0 0 1 0 0 1 1\n",
      "  0 0 0 1 1 0 1 0 1 0 1 0 1 1 2 0 0 0 2 3 0 0 0 0 3 1 0 0 0 0 1 0 0 1 2 0\n",
      "  1 1 1 1 0 0]]\n"
     ]
    }
   ],
   "source": [
    "vector = CountVectorizer(binary = False)\n",
    "a = \"Summer is a charming flirt. Easy going and casual. Summer doesn't huff and puff to win our affections.It has us at \\\"Hello.\\\" Winter broods like the tortured protagonist of big fat Russiannovel. It is daunting and dramatic, burning with a slow intensity. The season's reputation precedes itself.\\\n",
    "and often, not in a good way. It has a way of\\\n",
    "whittling down everything to its bare bones.\\\n",
    "Even relationships not attuned to its ebbs\\\n",
    "and flows can fray. At a dinner conversation I\\\n",
    "once attended, I listened in bemusement as a recent divorcee made the case that it was\\\n",
    "the Scandinavian frost that had cooled hisex-wife's ardour. How original. One of the finer books I read this\\\n",
    "year was John Kaag's Hiking\\\n",
    "With Nietzsche, in which Kaag.\\\n",
    "a professor of philosophy,\\\n",
    "kindles his passion for the German thinker\\\n",
    "while tracing picturesque hiking trails in\\\n",
    "the mountains of Switzerland. It's a near-\\\n",
    "precise rendering of the travelogue as a\\\n",
    "self-help book. A young Kaag was an avowed\\\n",
    "Nietzsche acolyte but given the ravages of\\\n",
    "responsit is inity to test by undertaking physically\\\n",
    "enduring hikes through the Alps, revisiting haunts tha search of demands. cou\\\n",
    "are catnip for anybody feeling at cross\\\n",
    "purposes vith their own life.\\\n",
    "ilities and adulthood, the writer put\\\n",
    "hilosopher escaped to, in\\\n",
    "olitude and salve.\"\n",
    "corpus = sent_tokenize(a)\n",
    "vector.fit(corpus)\n",
    "v1 = vector.transform([\"Summer is a charming flirt. Easy going and casual. Summer doesn't huff and puff to win our affections.It has us at \\\"Hello.\\\" Winter broods like the tortured protagonist of big fat Russiannovel. It is daunting and dramatic, burning with a slow intensity. The season's reputation precedes itself.\\\n",
    "and often, not in a good way. It has a way of\\\n",
    "whittling down everything to its bare bones.\\\n",
    "Even relationships not attuned to its ebbs\\\n",
    "and flows can fray. At a dinner conversation I\\\n",
    "once attended, I listened in bemusement as a recent divorcee made the case that it was\\\n",
    "the Scandinavian frost that had cooled hisex-wife's ardour. How original.\"]).toarray()\n",
    "print(v1)\n",
    "v2 = vector.transform([\"One of the finer books I read this\\\n",
    "year was John Kaag's Hiking\\\n",
    "With Nietzsche, in which Kaag.\\\n",
    "a professor of philosophy,\\\n",
    "kindles his passion for the German thinker\\\n",
    "while tracing picturesque hiking trails in\\\n",
    "the mountains of Switzerland. It's a near-\\\n",
    "precise rendering of the travelogue as a\\\n",
    "self-help book. A young Kaag was an avowed\\\n",
    "Nietzsche acolyte but given the ravages of\\\n",
    "responsit is inity to test by undertaking physically\\\n",
    "enduring hikes through the Alps, revisiting haunts tha search of demands. cou\\\n",
    "are catnip for anybody feeling at cross\\\n",
    "purposes vith their own life.\\\n",
    "ilities and adulthood, the writer put\\\n",
    "hilosopher escaped to, in\\\n",
    "olitude and salve.\"]).toarray()\n",
    "#print(vector.transform([\"country population mass times parents parents parents hello\"]))"
   ]
  },
  {
   "cell_type": "code",
   "execution_count": 16,
   "metadata": {},
   "outputs": [],
   "source": [
    "similarity = cosine_similarity(v1, v2)"
   ]
  },
  {
   "cell_type": "code",
   "execution_count": 17,
   "metadata": {},
   "outputs": [
    {
     "name": "stdout",
     "output_type": "stream",
     "text": [
      "[[0.30872157]]\n"
     ]
    }
   ],
   "source": [
    "print(similarity)"
   ]
  },
  {
   "cell_type": "code",
   "execution_count": null,
   "metadata": {},
   "outputs": [],
   "source": []
  }
 ],
 "metadata": {
  "kernelspec": {
   "display_name": "Python 3",
   "language": "python",
   "name": "python3"
  },
  "language_info": {
   "codemirror_mode": {
    "name": "ipython",
    "version": 3
   },
   "file_extension": ".py",
   "mimetype": "text/x-python",
   "name": "python",
   "nbconvert_exporter": "python",
   "pygments_lexer": "ipython3",
   "version": "3.7.0"
  }
 },
 "nbformat": 4,
 "nbformat_minor": 2
}
